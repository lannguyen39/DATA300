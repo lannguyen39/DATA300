{
 "cells": [
  {
   "cell_type": "markdown",
   "id": "7da61358",
   "metadata": {},
   "source": [
    "# ZeroR Classification Model:"
   ]
  },
  {
   "cell_type": "markdown",
   "id": "59a97595",
   "metadata": {},
   "source": [
    "1. Import Necessary Libraries:\n"
   ]
  },
  {
   "cell_type": "code",
   "execution_count": null,
   "id": "050f841f",
   "metadata": {},
   "outputs": [],
   "source": [
    "from sklearn.model_selection import train_test_split\n",
    "from sklearn.metrics import accuracy_score\n",
    "from sklearn.dummy import DummyClassifier\n"
   ]
  },
  {
   "cell_type": "markdown",
   "id": "4d7d38c8",
   "metadata": {},
   "source": [
    "2. Load the Iris Dataset:\n"
   ]
  },
  {
   "cell_type": "code",
   "execution_count": null,
   "id": "6eeb2890",
   "metadata": {},
   "outputs": [],
   "source": [
    "from sklearn.datasets import load_iris\n",
    "\n",
    "iris = load_iris()\n",
    "X = iris.data\n",
    "y = iris.target\n"
   ]
  },
  {
   "cell_type": "markdown",
   "id": "23b57d18",
   "metadata": {},
   "source": [
    "3. Experiment with Different Split Ratios:\n"
   ]
  },
  {
   "cell_type": "code",
   "execution_count": null,
   "id": "b0e107e7",
   "metadata": {},
   "outputs": [],
   "source": [
    "split_ratios = [0.6, 0.7, 0.8]\n",
    "\n",
    "for split_ratio in split_ratios:\n",
    "    X_train, X_test, y_train, y_test = train_test_split(X, y, test_size=1 - split_ratio, random_state=42)\n",
    "\n",
    "    # ZeroR\n",
    "    dummy_classifier = DummyClassifier(strategy=\"most_frequent\")\n",
    "    dummy_classifier.fit(X_train, y_train)\n",
    "    predictions = dummy_classifier.predict(X_test)\n",
    "\n",
    "    # Display Results\n",
    "    print(f\"\\nResults for ZeroR (Split Ratio: {split_ratio}):\")\n",
    "    accuracy = accuracy_score(y_test, predictions)\n",
    "    print(f\"Accuracy: {accuracy:.2f}\")\n"
   ]
  }
 ],
 "metadata": {
  "kernelspec": {
   "display_name": "Python 3 (ipykernel)",
   "language": "python",
   "name": "python3"
  },
  "language_info": {
   "codemirror_mode": {
    "name": "ipython",
    "version": 3
   },
   "file_extension": ".py",
   "mimetype": "text/x-python",
   "name": "python",
   "nbconvert_exporter": "python",
   "pygments_lexer": "ipython3",
   "version": "3.9.18"
  }
 },
 "nbformat": 4,
 "nbformat_minor": 5
}
