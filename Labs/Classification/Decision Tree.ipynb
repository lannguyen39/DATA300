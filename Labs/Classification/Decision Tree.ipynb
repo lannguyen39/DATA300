{
 "cells": [
  {
   "cell_type": "markdown",
   "id": "b58445aa",
   "metadata": {},
   "source": [
    "# Decision Tree Classification Model:\n"
   ]
  },
  {
   "cell_type": "markdown",
   "id": "32c96ac8",
   "metadata": {},
   "source": [
    "1. Import Necessary Libraries:\n"
   ]
  },
  {
   "cell_type": "code",
   "execution_count": null,
   "id": "dcf85f4e",
   "metadata": {},
   "outputs": [],
   "source": [
    "from sklearn.model_selection import train_test_split\n",
    "from sklearn.metrics import accuracy_score\n",
    "from sklearn.tree import DecisionTreeClassifier\n"
   ]
  },
  {
   "cell_type": "markdown",
   "id": "3a625a9d",
   "metadata": {},
   "source": [
    "2. Load the Iris Dataset:\n"
   ]
  },
  {
   "cell_type": "code",
   "execution_count": null,
   "id": "b4fe5b0a",
   "metadata": {},
   "outputs": [],
   "source": [
    "from sklearn.datasets import load_iris\n",
    "\n",
    "iris = load_iris()\n",
    "X = iris.data\n",
    "y = iris.target\n"
   ]
  },
  {
   "cell_type": "markdown",
   "id": "d7e03bf4",
   "metadata": {},
   "source": [
    "2. Experiment with Different Split Ratios:\n"
   ]
  },
  {
   "cell_type": "code",
   "execution_count": null,
   "id": "be604f2f",
   "metadata": {},
   "outputs": [],
   "source": [
    "split_ratios = [0.6, 0.7, 0.8]\n",
    "\n",
    "for split_ratio in split_ratios:\n",
    "    X_train, X_test, y_train, y_test = train_test_split(X, y, test_size=1 - split_ratio, random_state=42)\n",
    "\n",
    "    # Decision Tree\n",
    "    dt_classifier = DecisionTreeClassifier()\n",
    "    dt_classifier.fit(X_train, y_train)\n",
    "    predictions = dt_classifier.predict(X_test)\n",
    "\n",
    "    # Display Results\n",
    "    print(f\"\\nResults for Decision Tree (Split Ratio: {split_ratio}):\")\n",
    "    accuracy = accuracy_score(y_test, predictions)\n",
    "    print(f\"Accuracy: {accuracy:.2f}\")\n"
   ]
  }
 ],
 "metadata": {
  "kernelspec": {
   "display_name": "Python 3 (ipykernel)",
   "language": "python",
   "name": "python3"
  },
  "language_info": {
   "codemirror_mode": {
    "name": "ipython",
    "version": 3
   },
   "file_extension": ".py",
   "mimetype": "text/x-python",
   "name": "python",
   "nbconvert_exporter": "python",
   "pygments_lexer": "ipython3",
   "version": "3.9.18"
  }
 },
 "nbformat": 4,
 "nbformat_minor": 5
}
