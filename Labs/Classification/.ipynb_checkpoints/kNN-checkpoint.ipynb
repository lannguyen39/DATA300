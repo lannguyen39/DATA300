{
 "cells": [
  {
   "cell_type": "markdown",
   "id": "f34f9e66",
   "metadata": {},
   "source": [
    "# k-Nearest Neighbors Classification Model:\n"
   ]
  },
  {
   "cell_type": "markdown",
   "id": "76574930",
   "metadata": {},
   "source": [
    "1. Import Necessary Libraries:\n"
   ]
  },
  {
   "cell_type": "code",
   "execution_count": null,
   "id": "9d35c618",
   "metadata": {},
   "outputs": [],
   "source": [
    "from sklearn.model_selection import train_test_split\n",
    "from sklearn.metrics import accuracy_score\n",
    "from sklearn.neighbors import KNeighborsClassifier\n"
   ]
  },
  {
   "cell_type": "markdown",
   "id": "0d7b0dbb",
   "metadata": {},
   "source": [
    "2. Load the Iris Dataset:\n"
   ]
  },
  {
   "cell_type": "code",
   "execution_count": null,
   "id": "9f9e73d2",
   "metadata": {},
   "outputs": [],
   "source": [
    "from sklearn.datasets import load_iris\n",
    "\n",
    "iris = load_iris()\n",
    "X = iris.data\n",
    "y = iris.target\n"
   ]
  },
  {
   "cell_type": "markdown",
   "id": "a79ed56e",
   "metadata": {},
   "source": [
    "3. Experiment with Different Split Ratios and k-values:\n"
   ]
  },
  {
   "cell_type": "code",
   "execution_count": null,
   "id": "047ab989",
   "metadata": {},
   "outputs": [],
   "source": [
    "split_ratios = [0.6, 0.7, 0.8]\n",
    "k_neighbors_values = [3, 5, 7]\n",
    "\n",
    "for split_ratio in split_ratios:\n",
    "    X_train, X_test, y_train, y_test = train_test_split(X, y, test_size=1 - split_ratio, random_state=42)\n",
    "\n",
    "    # k-Nearest Neighbors\n",
    "    for k in k_neighbors_values:\n",
    "        knn = KNeighborsClassifier(n_neighbors=k)\n",
    "        knn.fit(X_train, y_train)\n",
    "        predictions = knn.predict(X_test)\n",
    "\n",
    "        # Display Results\n",
    "        print(f\"\\nResults for k-NN (k={k}, Split Ratio: {split_ratio}):\")\n",
    "        accuracy = accuracy_score(y_test, predictions)\n",
    "        print(f\"Accuracy: {accuracy:.2f}\")\n"
   ]
  }
 ],
 "metadata": {
  "kernelspec": {
   "display_name": "Python 3 (ipykernel)",
   "language": "python",
   "name": "python3"
  },
  "language_info": {
   "codemirror_mode": {
    "name": "ipython",
    "version": 3
   },
   "file_extension": ".py",
   "mimetype": "text/x-python",
   "name": "python",
   "nbconvert_exporter": "python",
   "pygments_lexer": "ipython3",
   "version": "3.11.4"
  }
 },
 "nbformat": 4,
 "nbformat_minor": 5
}
