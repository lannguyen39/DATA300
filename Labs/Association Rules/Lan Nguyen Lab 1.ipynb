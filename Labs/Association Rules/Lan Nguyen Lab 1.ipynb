{
 "cells": [
  {
   "cell_type": "markdown",
   "id": "46fb7ee5",
   "metadata": {},
   "source": [
    "## Q2-1:  "
   ]
  },
  {
   "cell_type": "code",
   "execution_count": 27,
   "id": "680b1875",
   "metadata": {},
   "outputs": [],
   "source": [
    "dataset = [['Bread', 'Milk', 'Eggs'],\n",
    "           ['Bread', 'Juice', 'Cheese'],\n",
    "           ['Milk', 'Eggs', 'Juice'],\n",
    "           ['Bread', 'Milk'], \n",
    "           ['Eggs', 'Juice'],\n",
    "           ['Bread', 'Cheese'],\n",
    "           ['Milk', 'Cheese'],\n",
    "           ['Bread', 'Milk', 'Eggs', 'Juice'],\n",
    "           ['Juice', 'Cheese'],\n",
    "           ['Bread', 'Milk', 'Cheese']]"
   ]
  },
  {
   "cell_type": "code",
   "execution_count": 49,
   "id": "459911da",
   "metadata": {},
   "outputs": [],
   "source": [
    "import numpy as np\n",
    "import pandas as pd\n",
    "import matplotlib.pyplot as plt\n",
    "from mlxtend.frequent_patterns import apriori as mlx_apriori\n",
    "from apyori import apriori as apy_apriori\n",
    "from mlxtend.preprocessing import TransactionEncoder\n",
    "from mlxtend.frequent_patterns import association_rules"
   ]
  },
  {
   "cell_type": "code",
   "execution_count": 37,
   "id": "a704f32d",
   "metadata": {},
   "outputs": [],
   "source": [
    "te = TransactionEncoder()\n",
    "te_try = te.fit(dataset).transform(dataset)"
   ]
  },
  {
   "cell_type": "code",
   "execution_count": 38,
   "id": "d421e0e0",
   "metadata": {},
   "outputs": [],
   "source": [
    "df = pd.DataFrame(te_try, columns=te.columns_)"
   ]
  },
  {
   "cell_type": "code",
   "execution_count": 39,
   "id": "4627ee88",
   "metadata": {},
   "outputs": [
    {
     "data": {
      "text/html": [
       "<div>\n",
       "<style scoped>\n",
       "    .dataframe tbody tr th:only-of-type {\n",
       "        vertical-align: middle;\n",
       "    }\n",
       "\n",
       "    .dataframe tbody tr th {\n",
       "        vertical-align: top;\n",
       "    }\n",
       "\n",
       "    .dataframe thead th {\n",
       "        text-align: right;\n",
       "    }\n",
       "</style>\n",
       "<table border=\"1\" class=\"dataframe\">\n",
       "  <thead>\n",
       "    <tr style=\"text-align: right;\">\n",
       "      <th></th>\n",
       "      <th>Bread</th>\n",
       "      <th>Cheese</th>\n",
       "      <th>Eggs</th>\n",
       "      <th>Juice</th>\n",
       "      <th>Milk</th>\n",
       "    </tr>\n",
       "  </thead>\n",
       "  <tbody>\n",
       "    <tr>\n",
       "      <th>0</th>\n",
       "      <td>True</td>\n",
       "      <td>False</td>\n",
       "      <td>True</td>\n",
       "      <td>False</td>\n",
       "      <td>True</td>\n",
       "    </tr>\n",
       "    <tr>\n",
       "      <th>1</th>\n",
       "      <td>True</td>\n",
       "      <td>True</td>\n",
       "      <td>False</td>\n",
       "      <td>True</td>\n",
       "      <td>False</td>\n",
       "    </tr>\n",
       "    <tr>\n",
       "      <th>2</th>\n",
       "      <td>False</td>\n",
       "      <td>False</td>\n",
       "      <td>True</td>\n",
       "      <td>True</td>\n",
       "      <td>True</td>\n",
       "    </tr>\n",
       "    <tr>\n",
       "      <th>3</th>\n",
       "      <td>True</td>\n",
       "      <td>False</td>\n",
       "      <td>False</td>\n",
       "      <td>False</td>\n",
       "      <td>True</td>\n",
       "    </tr>\n",
       "    <tr>\n",
       "      <th>4</th>\n",
       "      <td>False</td>\n",
       "      <td>False</td>\n",
       "      <td>True</td>\n",
       "      <td>True</td>\n",
       "      <td>False</td>\n",
       "    </tr>\n",
       "    <tr>\n",
       "      <th>5</th>\n",
       "      <td>True</td>\n",
       "      <td>True</td>\n",
       "      <td>False</td>\n",
       "      <td>False</td>\n",
       "      <td>False</td>\n",
       "    </tr>\n",
       "    <tr>\n",
       "      <th>6</th>\n",
       "      <td>False</td>\n",
       "      <td>True</td>\n",
       "      <td>False</td>\n",
       "      <td>False</td>\n",
       "      <td>True</td>\n",
       "    </tr>\n",
       "    <tr>\n",
       "      <th>7</th>\n",
       "      <td>True</td>\n",
       "      <td>False</td>\n",
       "      <td>True</td>\n",
       "      <td>True</td>\n",
       "      <td>True</td>\n",
       "    </tr>\n",
       "    <tr>\n",
       "      <th>8</th>\n",
       "      <td>False</td>\n",
       "      <td>True</td>\n",
       "      <td>False</td>\n",
       "      <td>True</td>\n",
       "      <td>False</td>\n",
       "    </tr>\n",
       "    <tr>\n",
       "      <th>9</th>\n",
       "      <td>True</td>\n",
       "      <td>True</td>\n",
       "      <td>False</td>\n",
       "      <td>False</td>\n",
       "      <td>True</td>\n",
       "    </tr>\n",
       "  </tbody>\n",
       "</table>\n",
       "</div>"
      ],
      "text/plain": [
       "   Bread  Cheese   Eggs  Juice   Milk\n",
       "0   True   False   True  False   True\n",
       "1   True    True  False   True  False\n",
       "2  False   False   True   True   True\n",
       "3   True   False  False  False   True\n",
       "4  False   False   True   True  False\n",
       "5   True    True  False  False  False\n",
       "6  False    True  False  False   True\n",
       "7   True   False   True   True   True\n",
       "8  False    True  False   True  False\n",
       "9   True    True  False  False   True"
      ]
     },
     "execution_count": 39,
     "metadata": {},
     "output_type": "execute_result"
    }
   ],
   "source": [
    "df"
   ]
  },
  {
   "cell_type": "code",
   "execution_count": 51,
   "id": "06d20488",
   "metadata": {},
   "outputs": [],
   "source": [
    "frequent_results = mlx_apriori(df,min_support=0.2, use_colnames=True)"
   ]
  },
  {
   "cell_type": "code",
   "execution_count": 52,
   "id": "1493f2f1",
   "metadata": {},
   "outputs": [
    {
     "name": "stdout",
     "output_type": "stream",
     "text": [
      "    support             itemsets\n",
      "0       0.6              (Bread)\n",
      "1       0.5             (Cheese)\n",
      "2       0.4               (Eggs)\n",
      "3       0.5              (Juice)\n",
      "4       0.6               (Milk)\n",
      "5       0.3      (Cheese, Bread)\n",
      "6       0.2        (Eggs, Bread)\n",
      "7       0.2       (Juice, Bread)\n",
      "8       0.4        (Milk, Bread)\n",
      "9       0.2      (Cheese, Juice)\n",
      "10      0.2       (Milk, Cheese)\n",
      "11      0.3        (Juice, Eggs)\n",
      "12      0.3         (Milk, Eggs)\n",
      "13      0.2        (Milk, Juice)\n",
      "14      0.2  (Eggs, Milk, Bread)\n",
      "15      0.2  (Juice, Milk, Eggs)\n"
     ]
    }
   ],
   "source": [
    "print(frequent_results)"
   ]
  },
  {
   "cell_type": "code",
   "execution_count": 53,
   "id": "33a16d3f",
   "metadata": {},
   "outputs": [],
   "source": [
    "rules = association_rules(frequent_results, metric=\"confidence\", min_threshold=0.7)"
   ]
  },
  {
   "cell_type": "code",
   "execution_count": 54,
   "id": "c5bdfaaf",
   "metadata": {},
   "outputs": [
    {
     "name": "stdout",
     "output_type": "stream",
     "text": [
      "     antecedents consequents  antecedent support  consequent support  support  \\\n",
      "0         (Eggs)     (Juice)                 0.4                 0.5      0.3   \n",
      "1         (Eggs)      (Milk)                 0.4                 0.6      0.3   \n",
      "2  (Eggs, Bread)      (Milk)                 0.2                 0.6      0.2   \n",
      "3  (Milk, Juice)      (Eggs)                 0.2                 0.4      0.2   \n",
      "\n",
      "   confidence      lift  leverage  conviction  zhangs_metric  \n",
      "0        0.75  1.500000      0.10         2.0       0.555556  \n",
      "1        0.75  1.250000      0.06         1.6       0.333333  \n",
      "2        1.00  1.666667      0.08         inf       0.500000  \n",
      "3        1.00  2.500000      0.12         inf       0.750000  \n"
     ]
    }
   ],
   "source": [
    "print(rules)"
   ]
  },
  {
   "cell_type": "markdown",
   "id": "a0ed0071",
   "metadata": {},
   "source": [
    "## Q2-2:"
   ]
  },
  {
   "cell_type": "markdown",
   "id": "ebdece93",
   "metadata": {},
   "source": [
    "1. Each row in the dataset represents a transaction made, this could also understand as a customer's shopping list.\n",
    "\n",
    "   Items are represented as a set of items, or a list. "
   ]
  },
  {
   "cell_type": "markdown",
   "id": "37b63b54",
   "metadata": {},
   "source": [
    "2. Apriori algorithm is more efficient and scalable compare to other association rule mining, and since the items must be frequent before the itemsets, we won't have error in finding itemsets.\n",
    "\n",
    "   The 'min_support' function is used to eliminate items and itemsets that have a support value below the threshold, and it control the number of frequent itemsets in the results by lowering or highering the minimum value."
   ]
  },
  {
   "cell_type": "markdown",
   "id": "98e9eac8",
   "metadata": {},
   "source": [
    "3. Because the function operates on a set of unique items, so turning them into lists is the best way\n",
    "\n",
    "   Missing data can be handled by data cleaning, or removing specific points of data, row, or collumn that is missing."
   ]
  },
  {
   "cell_type": "markdown",
   "id": "a417c5da",
   "metadata": {},
   "source": [
    "4. Confidence metric represent the probability we see the items given its antecedent.\n",
    "\n",
    "   Same with 'min_support', 'min_threshold' also eliminate rules thathave a confidence value below the threshold, the higher the threshold, the less rules we would have."
   ]
  },
  {
   "cell_type": "markdown",
   "id": "4815b0fe",
   "metadata": {},
   "source": [
    "5. Based on the results, we can see that strong rules tends to be in frequent itemsets, like eggs and milk, or eggs and juice.\n",
    "\n",
    "   Using association rules, companies can learn about clients habit and tendency of associating items close to each other."
   ]
  },
  {
   "cell_type": "markdown",
   "id": "3b923757",
   "metadata": {},
   "source": [
    "6. If you change 'min_support' to a higher number, the number of frequent itemsets will decrease, and vice versa. This is because we would have either a tighter or more loose threshold based on the 'min_support'.\n",
    "\n",
    "   Adjusting 'min_threshold' would change the minimum required value for a rule to be reliable. A higher confidence threshold would lower the number of rules, but the rules would be more reliable."
   ]
  },
  {
   "cell_type": "markdown",
   "id": "58655b2e",
   "metadata": {},
   "source": [
    "7. In real life, online shopping like Amazon can use association rules to help customers navigate and buy associated items without having to look for. \n",
    "\n",
    "   Retail store can use association rules to suggest custormer based on the first or second item they buy, or arranging itemsets close to each others for easier shopping experience."
   ]
  },
  {
   "cell_type": "code",
   "execution_count": null,
   "id": "f0d53e07",
   "metadata": {},
   "outputs": [],
   "source": []
  }
 ],
 "metadata": {
  "kernelspec": {
   "display_name": "Python 3 (ipykernel)",
   "language": "python",
   "name": "python3"
  },
  "language_info": {
   "codemirror_mode": {
    "name": "ipython",
    "version": 3
   },
   "file_extension": ".py",
   "mimetype": "text/x-python",
   "name": "python",
   "nbconvert_exporter": "python",
   "pygments_lexer": "ipython3",
   "version": "3.11.4"
  }
 },
 "nbformat": 4,
 "nbformat_minor": 5
}
